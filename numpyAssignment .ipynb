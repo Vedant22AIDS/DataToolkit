{
  "nbformat": 4,
  "nbformat_minor": 0,
  "metadata": {
    "colab": {
      "provenance": []
    },
    "kernelspec": {
      "name": "python3",
      "display_name": "Python 3"
    },
    "language_info": {
      "name": "python"
    }
  },
  "cells": [
    {
      "cell_type": "code",
      "execution_count": 1,
      "metadata": {
        "colab": {
          "base_uri": "https://localhost:8080/",
          "height": 105
        },
        "id": "NmNGGRLrRmQo",
        "outputId": "03e2924f-b4fd-478d-e3f7-74f15a73c17a"
      },
      "outputs": [
        {
          "output_type": "execute_result",
          "data": {
            "text/plain": [
              "'\\nA Python library is a collection of related modules that contain bundles of code that can be used in different programs. Python libraries are used to\\ncreate applications and models in a variety of fields, such as machine learning, data science, data visualization, and image and data manipulation.\\nPython libraries provide a wide range of functionalities, such as: Data manipulation, Scientific computing, Web development, Machine learning. \\nPython libraries make it easier for developers to work on specific tasks without reinventing the wheel. They help developers to build robust and efficient \\napplications by using the existing code and tools provided by the library. \\n'"
            ],
            "application/vnd.google.colaboratory.intrinsic+json": {
              "type": "string"
            }
          },
          "metadata": {},
          "execution_count": 1
        }
      ],
      "source": [
        "#Que1 . What is a Python library? Why ^o we use Python libraries?\n",
        "'''\n",
        "A Python library is a collection of related modules that contain bundles of code that can be used in different programs. Python libraries are used to\n",
        "create applications and models in a variety of fields, such as machine learning, data science, data visualization, and image and data manipulation.\n",
        "Python libraries provide a wide range of functionalities, such as: Data manipulation, Scientific computing, Web development, Machine learning.\n",
        "Python libraries make it easier for developers to work on specific tasks without reinventing the wheel. They help developers to build robust and efficient\n",
        "applications by using the existing code and tools provided by the library.\n",
        "'''"
      ]
    },
    {
      "cell_type": "code",
      "source": [
        "#Que2 What is the difference between Numpy array and List?\n",
        "'''\n",
        "Numpy ->\n",
        "1 Broadcasting:\n",
        "NumPy arrays support broadcasting, which allows you to perform operations on arrays of different shapes.\n",
        "\n",
        "2 Optimized:\n",
        "NumPy arrays are optimized for numerical operations, such as linear algebra and calculus.\n",
        "\n",
        "3 Efficient:\n",
        "NumPy arrays are more memory-efficient than Python lists, especially when working with large datasets.\n",
        "\n",
        "4 Homogeneous:\n",
        "All elements in a NumPy array must be of the same data type\n",
        "\n",
        "List ->\n",
        "1 Heterogeneous: Python lists can contain elements of different data types.\n",
        "2 Flexible: Python lists are more flexible than NumPy arrays, as you can add, remove, and modify elements at any time.\n",
        "3 Slower: Python lists are slower than NumPy arrays for numerical operations.\n",
        "4 No broadcasting: Python lists do not support broadcasting.\n",
        "'''\n"
      ],
      "metadata": {
        "colab": {
          "base_uri": "https://localhost:8080/",
          "height": 105
        },
        "id": "3zpZJajrSAV0",
        "outputId": "5c96e39f-3bce-4209-cc5e-f4dfd5a8192d"
      },
      "execution_count": 2,
      "outputs": [
        {
          "output_type": "execute_result",
          "data": {
            "text/plain": [
              "'\\nNumpy ->\\n1 Broadcasting:\\nNumPy arrays support broadcasting, which allows you to perform operations on arrays of different shapes.\\n\\n2 Optimized:\\nNumPy arrays are optimized for numerical operations, such as linear algebra and calculus.\\n\\n3 Efficient:\\nNumPy arrays are more memory-efficient than Python lists, especially when working with large datasets.\\n\\n4 Homogeneous:\\nAll elements in a NumPy array must be of the same data type\\n\\nList ->\\n1 Heterogeneous: Python lists can contain elements of different data types.\\n2 Flexible: Python lists are more flexible than NumPy arrays, as you can add, remove, and modify elements at any time.\\n3 Slower: Python lists are slower than NumPy arrays for numerical operations.\\n4 No broadcasting: Python lists do not support broadcasting.\\n'"
            ],
            "application/vnd.google.colaboratory.intrinsic+json": {
              "type": "string"
            }
          },
          "metadata": {},
          "execution_count": 2
        }
      ]
    },
    {
      "cell_type": "code",
      "source": [
        "'''\n",
        "Que3\n",
        "3. Find the shape, size and dimension of the following array?\n",
        "\n",
        "[[1, 2, 3, 4]\n",
        "\n",
        "[5, 6, 7, 8],\n",
        "\n",
        "[9, 10, 11, 12]]\n",
        "'''\n",
        "import numpy as np\n",
        "arr=np.asarray([[1,2,3,4],[5,6,7,8],[9,10,11,12]])\n",
        "print(arr)\n",
        "print(\"Shape :\",arr.shape)\n",
        "print(\"Size :\",arr.size)\n",
        "print(\"Dimension :\",arr.ndim)\n"
      ],
      "metadata": {
        "colab": {
          "base_uri": "https://localhost:8080/"
        },
        "id": "V7FFWPDVSk0l",
        "outputId": "e56d40d0-42f9-47b0-fc27-7d221819230d"
      },
      "execution_count": 5,
      "outputs": [
        {
          "output_type": "stream",
          "name": "stdout",
          "text": [
            "[[ 1  2  3  4]\n",
            " [ 5  6  7  8]\n",
            " [ 9 10 11 12]]\n",
            "Shape : (3, 4)\n",
            "Size : 12\n",
            "Dimension : 2\n"
          ]
        }
      ]
    },
    {
      "cell_type": "code",
      "source": [
        "'''\n",
        "Que4 Write python code to access the first row of the following array?\n",
        "\n",
        "[[1, 2, 3, 4]\n",
        "\n",
        "[5, 6, 7, 8],\n",
        "\n",
        "[9, 10, 11, 12]]\n",
        "'''\n",
        "arr=np.asarray([[1,2,3,4],[5,6,7,8],[9,10,11,12]])\n",
        "print(\"First Row :\",arr[0])"
      ],
      "metadata": {
        "colab": {
          "base_uri": "https://localhost:8080/"
        },
        "id": "DQWpc80US9kL",
        "outputId": "f7d089ca-4969-4bae-f1e3-e5be2b34ffcb"
      },
      "execution_count": 6,
      "outputs": [
        {
          "output_type": "stream",
          "name": "stdout",
          "text": [
            "First Row : [1 2 3 4]\n"
          ]
        }
      ]
    },
    {
      "cell_type": "code",
      "source": [
        "'''\n",
        "Que5 How to you access the element at the third row and fourth column from the given numpy array?\n",
        "\n",
        "[[1, 2, 3, 4]\n",
        "\n",
        "[5, 6, 7, 8],\n",
        "\n",
        "[9, 10, 11, 12]]\n",
        "'''\n",
        "arr=np.asarray([[1,2,3,4],[5,6,7,8],[9,10,11,12]])\n",
        "print(arr[2][3])"
      ],
      "metadata": {
        "colab": {
          "base_uri": "https://localhost:8080/"
        },
        "id": "FeET8DXKTfcT",
        "outputId": "8d8a70ce-7dc5-494c-ebba-ac588aedaaf8"
      },
      "execution_count": 7,
      "outputs": [
        {
          "output_type": "stream",
          "name": "stdout",
          "text": [
            "12\n"
          ]
        }
      ]
    },
    {
      "cell_type": "code",
      "source": [
        "'''\n",
        "Que6 Write code to extract all odd-indexed elements from the given numpy array?\n",
        "\n",
        "[[1, 2, 3, 4]\n",
        "\n",
        "[5, 6, 7, 8],\n",
        "\n",
        "[9, 10, 11, 12]]\n",
        "'''\n",
        "arr=np.asarray([[1,2,3,4],[5,6,7,8],[9,10,11,12]])\n",
        "print(arr[0:,[1,3]])\n"
      ],
      "metadata": {
        "colab": {
          "base_uri": "https://localhost:8080/"
        },
        "id": "QdyERVr3Ttb6",
        "outputId": "617c92e7-7ebc-4d50-adb4-34895475a373"
      },
      "execution_count": 17,
      "outputs": [
        {
          "output_type": "stream",
          "name": "stdout",
          "text": [
            "[[ 2  4]\n",
            " [ 6  8]\n",
            " [10 12]]\n"
          ]
        }
      ]
    },
    {
      "cell_type": "code",
      "source": [
        "'''\n",
        "Que7  How can you generate a random 3x3 matrix with values between 0 and 1?\n",
        "'''\n",
        "print(np.random.rand(3,3))"
      ],
      "metadata": {
        "colab": {
          "base_uri": "https://localhost:8080/"
        },
        "id": "92-NPSTDT8X7",
        "outputId": "1a376d26-c2c1-4593-db62-868e4db3017a"
      },
      "execution_count": 13,
      "outputs": [
        {
          "output_type": "stream",
          "name": "stdout",
          "text": [
            "[[0.01020339 0.41067982 0.12889259]\n",
            " [0.5749923  0.74092819 0.88133064]\n",
            " [0.7255043  0.01673352 0.74355282]]\n"
          ]
        }
      ]
    },
    {
      "cell_type": "code",
      "source": [
        "'''\n",
        "Que8 Describe the difference between np.random.rand and np.random.randint?\n",
        "1 np.random.rand -\n",
        "The np.random.rand function generates random numbers from a uniform distribution on the interval [0, 1]. This means that each number generated by the\n",
        "function has an equal probability of being any value between 0 and 1. The function takes one argument, which is the size of the output array.\n",
        "The output array will be a 1D array of random numbers.\n",
        "\n",
        "2 np.random.randint-\n",
        "The np.random.randint function generates random integers from a specified range. The function takes two arguments, which are the lower and upper bounds of\n",
        "the range. The output array will be a 1D array of random integers between the lower and upper bounds, inclusive.\n",
        "'''\n",
        "#Example -\n",
        "print(np.random.rand(5,3))\n",
        "print(np.random.randint(1,5,(3,3)))"
      ],
      "metadata": {
        "colab": {
          "base_uri": "https://localhost:8080/"
        },
        "id": "59Fa8wtKUK7H",
        "outputId": "d839b1d6-99b0-4716-89b5-ea1ea36e7c73"
      },
      "execution_count": 20,
      "outputs": [
        {
          "output_type": "stream",
          "name": "stdout",
          "text": [
            "[[0.71685383 0.84841851 0.60879147]\n",
            " [0.72007898 0.7113231  0.30963013]\n",
            " [0.12275136 0.66528791 0.34836285]\n",
            " [0.67251108 0.85865087 0.91148676]\n",
            " [0.44942932 0.23239209 0.39284845]]\n",
            "[[2 2 1]\n",
            " [3 1 4]\n",
            " [2 2 3]]\n"
          ]
        }
      ]
    },
    {
      "cell_type": "code",
      "source": [
        "'''\n",
        "Que9 Write code to increase the dimension of the following array?\n",
        "\n",
        "[[1, 2, 3, 4]\n",
        "\n",
        "[5, 6, 7, 8],\n",
        "\n",
        "[9, 10, 11, 12]]\n",
        "'''\n",
        "arr=np.array([[1,2,3,4],[5,6,7,8],[9,10,11,12]])\n",
        "print(arr)\n",
        "print(arr.ndim)\n",
        "print(np.expand_dims(arr,axis=0))\n",
        "print(np.expand_dims(arr,axis=1))\n",
        "print(np.expand_dims(arr,axis=1))\n",
        "\n"
      ],
      "metadata": {
        "colab": {
          "base_uri": "https://localhost:8080/"
        },
        "id": "HVE8ZUxAWUIN",
        "outputId": "254a8216-3cb4-459b-b70c-0ee9330ee030"
      },
      "execution_count": 25,
      "outputs": [
        {
          "output_type": "stream",
          "name": "stdout",
          "text": [
            "[[ 1  2  3  4]\n",
            " [ 5  6  7  8]\n",
            " [ 9 10 11 12]]\n",
            "2\n",
            "[[[ 1  2  3  4]\n",
            "  [ 5  6  7  8]\n",
            "  [ 9 10 11 12]]]\n",
            "[[[ 1  2  3  4]]\n",
            "\n",
            " [[ 5  6  7  8]]\n",
            "\n",
            " [[ 9 10 11 12]]]\n",
            "[[[ 1  2  3  4]]\n",
            "\n",
            " [[ 5  6  7  8]]\n",
            "\n",
            " [[ 9 10 11 12]]]\n"
          ]
        }
      ]
    },
    {
      "cell_type": "code",
      "source": [
        "'''\n",
        "Que10 How to transpose the following array in NumPy?\n",
        "\n",
        "[[1, 2, 3, 4]\n",
        "\n",
        "[5, 6, 7, 8],\n",
        "\n",
        "[9, 10, 11, 12]]\n",
        "'''\n",
        "arr=np.array([[1,2,3,4],[5,6,7,8],[9,10,11,12]])\n",
        "print(arr.T)"
      ],
      "metadata": {
        "colab": {
          "base_uri": "https://localhost:8080/"
        },
        "id": "keWWbwcnWuGL",
        "outputId": "8b4d87d4-5cec-4305-f267-059880326dba"
      },
      "execution_count": 26,
      "outputs": [
        {
          "output_type": "stream",
          "name": "stdout",
          "text": [
            "[[ 1  5  9]\n",
            " [ 2  6 10]\n",
            " [ 3  7 11]\n",
            " [ 4  8 12]]\n"
          ]
        }
      ]
    },
    {
      "cell_type": "code",
      "source": [
        "'''\n",
        "11. Consider the following matrix:\n",
        "\n",
        "Matrix A2 [[1, 2, 3, 4] [5, 6, 7, 8],[9, 10, 11, 12]]\n",
        "Matrix B2 [[1, 2, 3, 4] [5, 6, 7, 8],[9, 10, 11, 12]]\n",
        "\n",
        "Perform the following operation using Python\n",
        "'''\n",
        "# 1 indexed wise multiplication\n",
        "arr1=np.asarray([[1,2,3,4],[5, 6, 7, 8],[9, 10, 11, 12]])\n",
        "arr2=np.asarray([[1,2,3,4],[5, 6, 7, 8],[9, 10, 11, 12]])\n",
        "print(arr1*arr2)\n",
        "\n",
        "# 2 Matrix multiplication\n",
        "print(arr1 @ arr2)\n",
        "# 3 Add both matrix\n",
        "print(arr1+arr2)\n",
        "\n",
        "# 4 Divide arr2 by arr1\n",
        "print(arr2//arr1)"
      ],
      "metadata": {
        "colab": {
          "base_uri": "https://localhost:8080/"
        },
        "id": "v0dpv4sCXPaR",
        "outputId": "1fca955d-4bb6-43ed-a56f-689c4286e439"
      },
      "execution_count": 32,
      "outputs": [
        {
          "output_type": "stream",
          "name": "stdout",
          "text": [
            "[[  1   4   9  16]\n",
            " [ 25  36  49  64]\n",
            " [ 81 100 121 144]]\n",
            "[[ 2  4  6  8]\n",
            " [10 12 14 16]\n",
            " [18 20 22 24]]\n",
            "[[1 1 1 1]\n",
            " [1 1 1 1]\n",
            " [1 1 1 1]]\n"
          ]
        }
      ]
    },
    {
      "cell_type": "code",
      "source": [
        "'''\n",
        "#Que12 Which function in Numpy can be use^ to swap the byte or^er of an array?\n",
        "The byteswap() function in NumPy can be used to swap the byte order of an array. The syntax is:\n",
        "'''\n",
        "arr = np.array([1, 2, 3, 4], dtype=np.int32)\n",
        "\n",
        "original_array = np.array([1, 2, 3, 4], dtype=np.int32)\n",
        "\n",
        "# Display the original array\n",
        "print(\"Original array:\", original_array)\n",
        "\n",
        "# Byteswap the array\n",
        "swapped_array = original_array.byteswap()\n",
        "\n",
        "# Display the swapped array\n",
        "print(\"Byteswapped array:\", swapped_array)"
      ],
      "metadata": {
        "colab": {
          "base_uri": "https://localhost:8080/"
        },
        "id": "2QRx0D28Yik4",
        "outputId": "27fdef3b-837c-4fd9-9308-286ffc3d685c"
      },
      "execution_count": 39,
      "outputs": [
        {
          "output_type": "stream",
          "name": "stdout",
          "text": [
            "Original array: [1 2 3 4]\n",
            "Byteswapped array: [16777216 33554432 50331648 67108864]\n"
          ]
        }
      ]
    },
    {
      "cell_type": "code",
      "source": [
        "'''\n",
        "Que13 What is the significance of the np.linalg.inv function?\n",
        "The np.linalg.inv function is a function in the NumPy library that calculates the inverse of a matrix. The inverse of a matrix is a matrix that, when\n",
        "multiplied by the original matrix, results in the identity matrix. The identity matrix is a square matrix with ones on the diagonal and zeros everywhere else.\n",
        "The np.linalg.inv function is significant because it can be used to solve a variety of problems in linear algebra. For example, it can be used to solve\n",
        "systems of linear equations, to find the eigenvalues and eigenvectors of a matrix, and to compute the determinant of a matrix.\n",
        "'''\n",
        "A = np.array([[2, 1], [4, 3]])\n",
        "B = np.array([1, 2])\n",
        "x = np.linalg.inv(A).dot(B)\n",
        "\n",
        "print()\n"
      ],
      "metadata": {
        "colab": {
          "base_uri": "https://localhost:8080/"
        },
        "id": "QqDPQh8AaC31",
        "outputId": "48ede8a2-5baa-4a98-e961-441036b22930"
      },
      "execution_count": 35,
      "outputs": [
        {
          "output_type": "stream",
          "name": "stdout",
          "text": [
            "[0.5 0. ]\n"
          ]
        }
      ]
    },
    {
      "cell_type": "code",
      "source": [
        "'''\n",
        "Que14 What does the np.reshape function do, and how is it used?\n",
        "The np.reshape function in Python is used to change the shape of a NumPy array. It takes two arguments: the array to be reshaped and the new shape. The new\n",
        "shape can be a tuple of integers or a single integer. If the new shape is a tuple of integers, then the array will be reshaped to have the specified dimensions. If the new shape is a single integer, then the array will be reshaped to have a single dimension with the specified length.\n",
        "'''\n",
        "arr = np.array([1, 2, 3, 4, 5,6])\n",
        "print(np.reshape(arr,(2,3)))"
      ],
      "metadata": {
        "colab": {
          "base_uri": "https://localhost:8080/"
        },
        "id": "Z15IswD-aDYr",
        "outputId": "86694e60-8e61-4e13-f66b-71131793b52c"
      },
      "execution_count": 34,
      "outputs": [
        {
          "output_type": "stream",
          "name": "stdout",
          "text": [
            "[[1 2 3]\n",
            " [4 5 6]]\n"
          ]
        }
      ]
    },
    {
      "cell_type": "code",
      "source": [
        "'''\n",
        "Que15 What is broadcasting in Numpy?\n",
        "Broadcasting can be used with any arithmetic operation, including addition, subtraction, multiplication, and division. It can also be used with comparison\n",
        "operators, such as >, <, ==, and !=.Broadcasting is a powerful feature that can be used to simplify many NumPy operations. It is important to understand how\n",
        "broadcasting works in order to use NumPy effectively.Broadcasting is a powerful NumPy feature that allows arrays of different shapes to be used in operations\n",
        "together. This is done by automatically expanding the smaller array to match the shape of the larger array.\n",
        "'''"
      ],
      "metadata": {
        "id": "BE_LsgAPaDb7"
      },
      "execution_count": null,
      "outputs": []
    }
  ]
}